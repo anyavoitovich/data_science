{
  "cells": [
    {
      "cell_type": "markdown",
      "metadata": {
        "id": "view-in-github",
        "colab_type": "text"
      },
      "source": [
        "<a href=\"https://colab.research.google.com/github/anyavoitovich/data_science/blob/main/written_digits.ipynb\" target=\"_parent\"><img src=\"https://colab.research.google.com/assets/colab-badge.svg\" alt=\"Open In Colab\"/></a>"
      ]
    },
    {
      "cell_type": "code",
      "execution_count": null,
      "metadata": {
        "id": "faT09W-Q4J1R"
      },
      "outputs": [],
      "source": [
        "!pip install pycaret\n"
      ]
    },
    {
      "cell_type": "code",
      "execution_count": 2,
      "metadata": {
        "colab": {
          "base_uri": "https://localhost:8080/"
        },
        "id": "V6ZuUsLL7bTi",
        "outputId": "85e0691f-0307-4691-a1c8-0adc6259ac31"
      },
      "outputs": [
        {
          "output_type": "stream",
          "name": "stdout",
          "text": [
            "Classification Report:\n",
            "              precision    recall  f1-score   support\n",
            "\n",
            "           0       0.97      0.90      0.93      3254\n",
            "           1       0.84      0.99      0.90      3218\n",
            "           2       0.91      0.84      0.87      3220\n",
            "           3       0.84      0.88      0.86      3225\n",
            "           4       0.85      0.81      0.83      3199\n",
            "           5       0.88      0.74      0.81      3212\n",
            "           6       0.79      0.91      0.84      3225\n",
            "           7       0.85      0.89      0.87      3342\n",
            "           8       0.95      0.90      0.93      3158\n",
            "           9       0.88      0.86      0.87      3266\n",
            "\n",
            "    accuracy                           0.87     32319\n",
            "   macro avg       0.88      0.87      0.87     32319\n",
            "weighted avg       0.88      0.87      0.87     32319\n",
            "\n",
            "Confusion Matrix:\n",
            "[[2927   36   27   33   16   56   97    3   19   40]\n",
            " [   0 3174    0    1    0    0    0   43    0    0]\n",
            " [  26  109 2693   80   79   35   69  112    3   14]\n",
            " [   0   30   48 2824    8   60    6  203   41    5]\n",
            " [  12  127   10    4 2602    2  255   16    0  171]\n",
            " [  21   37   19  261   84 2385  301   22   39   43]\n",
            " [   3   34    0    2   81   96 2928   24    5   52]\n",
            " [   0  153  112   90    0   13    4 2963    2    5]\n",
            " [   6   26   33   33    1   34   64   53 2857   51]\n",
            " [  24   75    7   38  198   27    0   42   37 2818]]\n"
          ]
        }
      ],
      "source": [
        "import pandas as pd\n",
        "import numpy as np\n",
        "from sklearn.ensemble import RandomForestClassifier\n",
        "from sklearn.metrics import accuracy_score, precision_score, recall_score, f1_score, classification_report, confusion_matrix\n",
        "from sklearn.preprocessing import LabelEncoder\n",
        "from sklearn.preprocessing import StandardScaler\n",
        "from sklearn.model_selection import train_test_split\n",
        "from sklearn.pipeline import Pipeline\n",
        "import os\n",
        "from PIL import Image\n",
        "\n",
        "# Уменьшение размера изображений до 100x100 пикселей\n",
        "def load_and_resize_image(image_path, target_size=(28, 28)):\n",
        "    img = Image.open(image_path)\n",
        "    img = img.resize(target_size)\n",
        "    return img\n",
        "\n",
        "# Функция для преобразования изображения в массив NumPy\n",
        "def image_to_array(img):\n",
        "    return np.array(img)\n",
        "\n",
        "# Функция для выравнивания и нормализации массива изображения\n",
        "def flatten_and_normalize(img_array):\n",
        "    flat_array = img_array.flatten()\n",
        "    normalized_array = flat_array / 255.0  # предполагается, что значения пикселей находятся в диапазоне [0, 255]\n",
        "    return normalized_array\n",
        "\n",
        "# Путь к zip файлу на Google Drive\n",
        "# zip_path = '/content/drive/MyDrive/dataset.zip'\n",
        "\n",
        "# Распаковка zip файла\n",
        "extract_path = '/content/extracted'\n",
        "# with zipfile.ZipFile(zip_path, 'r') as zip_ref:\n",
        "#     zip_ref.extractall(extract_path)\n",
        "\n",
        "# Путь к папкам с изображениями (в данном случае в папках с цифрами)\n",
        "images_root_folder = os.path.join(extract_path, 'dataset')\n",
        "\n",
        "# Обработка данных\n",
        "batch_size = 1000\n",
        "data = []\n",
        "for digit_folder in os.listdir(images_root_folder):\n",
        "    digit_path = os.path.join(images_root_folder, digit_folder, digit_folder)\n",
        "    if digit_folder == '.DS_Store' or not os.path.isdir(digit_path):\n",
        "        continue\n",
        "    image_files = [f for f in os.listdir(digit_path) if f.endswith('.png')]\n",
        "    for i in range(0, len(image_files), batch_size):\n",
        "        batch_files = image_files[i:i+batch_size]\n",
        "        batch_data = []\n",
        "        for image_file in batch_files:\n",
        "            image_path = os.path.join(digit_path, image_file)\n",
        "            img = load_and_resize_image(image_path)\n",
        "            img_array = image_to_array(img)\n",
        "            processed_array = flatten_and_normalize(img_array)\n",
        "            batch_data.append([processed_array, digit_folder])\n",
        "        data.extend(batch_data)\n",
        "\n",
        "# Создание DataFrame с обработанными данными изображений\n",
        "df = pd.DataFrame(data, columns=['image_array', 'digit_folder'])\n",
        "\n",
        "# Разделение данных на обучающий и тестовый наборы\n",
        "X_train, X_test, y_train, y_test = train_test_split(df['image_array'].to_list(), df['digit_folder'], test_size=0.3, random_state=42)\n",
        "\n",
        "# Преобразование меток в числа\n",
        "le = LabelEncoder()\n",
        "y_train_encoded = le.fit_transform(y_train)\n",
        "y_test_encoded = le.transform(y_test)\n",
        "\n",
        "# Создание и пошаговое обучение модели\n",
        "model = Pipeline([\n",
        "    ('scaler', StandardScaler()),\n",
        "    ('classifier', RandomForestClassifier(n_estimators=100, random_state=42))\n",
        "])\n",
        "\n",
        "# Обучение на каждом батче\n",
        "for X_batch, y_batch in zip(np.array_split(X_train, len(X_train)//batch_size), np.array_split(y_train_encoded, len(X_train)//batch_size)):\n",
        "    model.fit(X_batch, y_batch)\n",
        "\n",
        "# Прогнозы на тестовом наборе\n",
        "y_pred = model.predict(X_test)\n",
        "\n",
        "# Оценка модели\n",
        "print(\"Classification Report:\")\n",
        "print(classification_report(y_test_encoded, y_pred))\n",
        "\n",
        "# Визуализация confusion matrix\n",
        "cm = confusion_matrix(y_test_encoded, y_pred)\n",
        "print(\"Confusion Matrix:\")\n",
        "print(cm)"
      ]
    },
    {
      "cell_type": "code",
      "source": [
        "import matplotlib.pyplot as plt\n",
        "import random\n",
        "\n",
        "# Выберем случайные изображения из тестового набора\n",
        "sample_indices = random.sample(range(len(X_test)), 5)\n",
        "\n",
        "# Отобразим изображения и предсказания\n",
        "for idx in sample_indices:\n",
        "    image_array = np.array(X_test[idx])\n",
        "    digit_folder = le.inverse_transform([y_test_encoded[idx]])[0]\n",
        "    predicted_digit = le.inverse_transform([y_pred[idx]])[0]\n",
        "\n",
        "    # Проверим форму изображения\n",
        "    if len(image_array.shape) == 1 and image_array.size == 3136:\n",
        "        # Если форма (3136,), предполагаем, что изображение было выровнено и восстанавливаем его форму (56, 56)\n",
        "        image_array = image_array.reshape((56, 56))  # Предположим, что изображение было уменьшено в 2 раза\n",
        "\n",
        "    # Преобразуем значения пикселей обратно в [0, 255], чтобы избежать проблем с отображением\n",
        "    image_array = (image_array * 255).astype('uint8')\n",
        "\n",
        "    plt.imshow(image_array, cmap='gray')\n",
        "    plt.title(f\"True Label: {digit_folder}, Predicted Label: {predicted_digit}\")\n",
        "    plt.axis('off')\n",
        "    plt.show()\n"
      ],
      "metadata": {
        "colab": {
          "base_uri": "https://localhost:8080/",
          "height": 1000
        },
        "id": "MJ5Lie-2yQC3",
        "outputId": "f3d2f869-8ffa-4126-da39-b3ee94b20f3a"
      },
      "execution_count": 3,
      "outputs": [
        {
          "output_type": "display_data",
          "data": {
            "text/plain": [
              "<Figure size 640x480 with 1 Axes>"
            ],
            "image/png": "[encoded data removed]"
          },
          "metadata": {}
        },
        {
          "output_type": "display_data",
          "data": {
            "text/plain": [
              "<Figure size 640x480 with 1 Axes>"
            ],
            "image/png": "[encoded data removed]"
          },
          "metadata": {}
        },
        {
          "output_type": "display_data",
          "data": {
            "text/plain": [
              "<Figure size 640x480 with 1 Axes>"
            ],
            "image/png": "[encoded data removed]"
          },
          "metadata": {}
        },
        {
          "output_type": "display_data",
          "data": {
            "text/plain": [
              "<Figure size 640x480 with 1 Axes>"
            ],
            "image/png": "[encoded data removed]"
          },
          "metadata": {}
        },
        {
          "output_type": "display_data",
          "data": {
            "text/plain": [
              "<Figure size 640x480 with 1 Axes>"
            ],
            "image/png": "[encoded data removed]"
          },
          "metadata": {}
        }
      ]
    },
    {
      "cell_type": "code",
      "source": [
        "!free -m\n"
      ],
      "metadata": {
        "colab": {
          "base_uri": "https://localhost:8080/"
        },
        "id": "FcACQAcjpNlo",
        "outputId": "403b2e83-d56e-4d90-d926-b4dad147ab01"
      },
      "execution_count": null,
      "outputs": [
        {
          "output_type": "stream",
          "name": "stdout",
          "text": [
            "               total        used        free      shared  buff/cache   available\n",
            "Mem:           12978        1119       10867           3         991       11564\n",
            "Swap:              0           0           0\n"
          ]
        }
      ]
    },
    {
      "cell_type": "code",
      "source": [],
      "metadata": {
        "id": "R-UQr6f-CV75"
      },
      "execution_count": null,
      "outputs": []
    }
  ],
  "metadata": {
    "accelerator": "GPU",
    "colab": {
      "provenance": [],
      "mount_file_id": "1RmXvFrgfFoL0byEZau-DKyY0P01r1m4S",
      "authorship_tag": "ABX9TyMrd4AsIZWWAnkeG/XlhKEW",
      "include_colab_link": true
    },
    "kernelspec": {
      "display_name": "Python 3",
      "name": "python3"
    },
    "language_info": {
      "name": "python"
    }
  },
  "nbformat": 4,
  "nbformat_minor": 0
}